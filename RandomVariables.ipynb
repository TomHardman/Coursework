{
 "cells": [
  {
   "cell_type": "code",
   "execution_count": 1,
   "id": "intense-tours",
   "metadata": {},
   "outputs": [],
   "source": [
    "import numpy as np\n",
    "import matplotlib.pyplot as plt\n",
    "from ipywidgets import interact, FloatLogSlider, fixed\n",
    "from scipy.stats import norm\n",
    "\n",
    "def n_pdf(x, mu=0., sigma=1.): # normal pdf\n",
    "    u = (x - mu) / abs(sigma)\n",
    "    y = (1 / (np.sqrt(2 * np.pi) * abs(sigma)))\n",
    "    y *= np.exp(-u * u / 2)   \n",
    "    return y\n",
    "        \n",
    "def ksdensity(data, width=0.3):\n",
    "    \"\"\"Returns kernel smoothing function from data points in data\"\"\"\n",
    "    def ksd(x_axis):  \n",
    "        prob = [n_pdf(x_i, data, width) for x_i in x_axis]\n",
    "        pdf = [np.average(pr) for pr in prob] # each row is one x value\n",
    "        return np.array(pdf)\n",
    "    return ksd\n",
    "\n",
    "def calc_norm_bin_probabilities(bins):\n",
    "    '''Returns an array containing the probabilities of a gaussian number lying in each bin'''\n",
    "    return[norm.cdf(bins[i+1]) - norm.cdf(bins[i]) for i in range(len(bins)-1)]\n",
    "\n",
    "def calc_norm_scaler(func_width, no_bins, n, func_max):\n",
    "    '''Returns the scaling factor to scale a standard normal to a histogram \n",
    "    by calculating the probability of a random gaussian number lying in \n",
    "    a bin centred on zero and therefore the proportion of histogram data\n",
    "    that you'd expect to lie in this bin'''\n",
    "    delta = func_width/no_bins\n",
    "    area = norm.cdf(0+delta/2) - norm.cdf(0-delta/2)\n",
    "    return area*n/func_max\n",
    "\n",
    "def calc_scaler(bins, bin_heights, x, y, N, asymptotes=False):\n",
    "    '''Returns a scaling factor to scale a pdf to a histogram representing\n",
    "    a probability distribution. Using the Jacobian transformation \n",
    "    to generate the pdf of a function of a random variable can lead to \n",
    "    asymptotes in the pdf when there are turning points in the function. \n",
    "    The  effects of this can be minimised by setting the asymptotes argument \n",
    "    to true'''\n",
    "    \n",
    "    #Calculate the area covered by the histogram and estimate area under pdf using trapezium rule\n",
    "    pdf_area = sum(abs(x[i+1] - x[i]) * (y[i+1] + y[i])/2 for i in range(len(x) - 1))\n",
    "    hist_area = sum((bins[i+1] - bins[i]) * bin_heights[i] for i in range(len(bin_heights)))\n",
    "    scaler = hist_area/pdf_area\n",
    "    \n",
    "    if not asymptotes:\n",
    "        return scaler\n",
    "    \n",
    "    else:\n",
    "        #A cutoff is used to minimise the affects of super large values near the asymptotes of the pdf\n",
    "        #During numerical integration, any values greater than the cutoff will be replaced with the cutoff value\n",
    "        cutoff = 2 * max(bin_heights)/scaler \n",
    "        pdf_area_a = sum(abs((x[i+1] - x[i]) * ((min(y[i+1], cutoff) + min(y[i], cutoff))/2)) \n",
    "                       for i in range(len(x) - 1))\n",
    "    \n",
    "    scaler = hist_area/pdf_area_a\n",
    "    return scaler\n",
    "\n",
    "def theoretical_mean_and_std(N, bin_probs, no_bins):\n",
    "    '''Returns the theoretical mean and standard deviation of the histogram count data'''\n",
    "    mean = sum(N*prob for prob in bin_probs)/no_bins\n",
    "    var = sum(N*prob*(1-prob) for prob in bin_probs)/no_bins\n",
    "    return [mean, np.sqrt(var)]"
   ]
  },
  {
   "cell_type": "markdown",
   "id": "starting-antarctica",
   "metadata": {},
   "source": [
    "## Uniform and Normal Random Variables"
   ]
  },
  {
   "cell_type": "code",
   "execution_count": 2,
   "id": "eligible-thumbnail",
   "metadata": {},
   "outputs": [
    {
     "data": {
      "application/vnd.jupyter.widget-view+json": {
       "model_id": "55bf2642e79741de8533a037e1a388c1",
       "version_major": 2,
       "version_minor": 0
      },
      "text/plain": [
       "interactive(children=(FloatLogSlider(value=10.0, description='N', min=1.0, step=1.0), FloatSlider(value=0.3, d…"
      ]
     },
     "metadata": {},
     "output_type": "display_data"
    },
    {
     "data": {
      "application/vnd.jupyter.widget-view+json": {
       "model_id": "10cb2489721d45688e608cea2329b0c2",
       "version_major": 2,
       "version_minor": 0
      },
      "text/plain": [
       "interactive(children=(FloatLogSlider(value=10.0, description='N', min=1.0, step=1.0), FloatSlider(value=0.3, d…"
      ]
     },
     "metadata": {},
     "output_type": "display_data"
    },
    {
     "data": {
      "text/plain": [
       "<function __main__.plot_smoothed_uniform_with_histo(N, width=0.3)>"
      ]
     },
     "execution_count": 2,
     "metadata": {},
     "output_type": "execute_result"
    }
   ],
   "source": [
    "def plot_smoothed_normal_with_histo(N, width=0.3):\n",
    "    # Generate and plot histogram of N gaussian random numbers\n",
    "    fig, ax = plt.subplots(1)\n",
    "    x = np.random.randn(int(N))\n",
    "    ax.hist(x, bins=30, color='blue') \n",
    "\n",
    "    #Generate smoothed density function and x values for plotting\n",
    "    ks_density = ksdensity(x, width)\n",
    "    x_values = np.linspace(-5., 5., 100)\n",
    "    \n",
    "    #Calculate Scaling factor\n",
    "    func_range = max(list(ax.hist(x, bins=30))[1]) - min(list(ax.hist(x, bins=30))[1]) #find range of hist data\n",
    "    max_ks = max(ks_density(x_values))\n",
    "    norm_scaler = calc_norm_scaler(func_range, 30, N, max_ks)\n",
    "    \n",
    "    #Plot\n",
    "    ax.plot(x_values, norm_scaler * ks_density(x_values), color='magenta')\n",
    "    ax.set_title('Histogram of Randomly Generated Gaussian Numbers with Smoothing Function')\n",
    "\n",
    "def plot_smoothed_uniform_with_histo(N, width=0.3):\n",
    "    # Generate and plot histogram of 1000 uniform random numbers\n",
    "    fig2, ax2 = plt.subplots(1)\n",
    "    x = np.random.rand(int(N))\n",
    "    ax2.hist(x, bins=30, color='blue')\n",
    "    \n",
    "    #Generate smoothed density function and x values for plotting\n",
    "    ks_density = ksdensity(x, width)\n",
    "    x_values = np.linspace(-1., 2., 100)\n",
    "    \n",
    "    #Calculate Scaling factor\n",
    "    scaler_u = np.mean(list(ax2.hist(x, bins=30))[0]) / max(ks_density(x_values))\n",
    "    \n",
    "    #Plot\n",
    "    ax2.plot(x_values, scaler_u * ks_density(x_values), color='magenta')\n",
    "    ax2.set_title('Histogram of Uniform Random Numbers with Smoothing Function')  \n",
    "\n",
    "interact(plot_smoothed_normal_with_histo, width=(0, 2, 0.1), N=FloatLogSlider(min=1, max=4, step=1))\n",
    "interact(plot_smoothed_uniform_with_histo, width=(0.01, 0.55, 0.04), N=FloatLogSlider(min=1, max=4, step=1))"
   ]
  },
  {
   "cell_type": "code",
   "execution_count": 3,
   "id": "attractive-small",
   "metadata": {},
   "outputs": [
    {
     "data": {
      "application/vnd.jupyter.widget-view+json": {
       "model_id": "d694ea46849549379987cec624e4f096",
       "version_major": 2,
       "version_minor": 0
      },
      "text/plain": [
       "interactive(children=(FloatLogSlider(value=10.0, description='N', min=1.0, step=1.0), IntSlider(value=50, desc…"
      ]
     },
     "metadata": {},
     "output_type": "display_data"
    },
    {
     "data": {
      "application/vnd.jupyter.widget-view+json": {
       "model_id": "653d1891fb4244c688b1baa34bab854b",
       "version_major": 2,
       "version_minor": 0
      },
      "text/plain": [
       "interactive(children=(FloatLogSlider(value=10.0, description='N', min=1.0, step=1.0), IntSlider(value=50, desc…"
      ]
     },
     "metadata": {},
     "output_type": "display_data"
    },
    {
     "data": {
      "text/plain": [
       "<function __main__.plot_uniform_with_histo(N, no_bins, sd_lines=True, mean=True)>"
      ]
     },
     "execution_count": 3,
     "metadata": {},
     "output_type": "execute_result"
    }
   ],
   "source": [
    "def plot_normal_with_histo(N, no_bins, sd_lines = True, mean = True):\n",
    "    fig_n, ax_n = plt.subplots(1, figsize = (8, 5))\n",
    "    x_vals_n = np.linspace(-5., 5., 1000)\n",
    "    rand_n = np.random.randn(int(N)) #uniformly generate N random  gaussian numbers\n",
    "    \n",
    "    #Calculate Scaling Factor\n",
    "    func_range = max(list(ax_n.hist(rand_n, bins=no_bins))[1]) - min(list(ax_n.hist(rand_n, bins=no_bins))[1]) \n",
    "    max_norm = max(n_pdf(x_vals_n))\n",
    "    scaler_n = calc_norm_scaler(func_range, no_bins, N, max_norm) \n",
    "    \n",
    "    #Create lists of bins, their data counts and their associated probabilities\n",
    "    bin_heights_n = ax_n.hist(rand_n, bins=no_bins)[0]\n",
    "    bins_n = ax_n.hist(rand_n, bins=no_bins)[1]\n",
    "    bin_probs_n = calc_norm_bin_probabilities(bins_n)\n",
    "    \n",
    "    #Calculate theoretical mean and standard deviation of the histogram count data\n",
    "    theo_mean, theo_std = theoretical_mean_and_std(N, bin_probs_n, no_bins)\n",
    "    \n",
    "    #Plotting\n",
    "    if mean == True:\n",
    "        ax_n.hlines(theo_mean, bins_n[0], bins_n[-1], color='magenta', \n",
    "                    label='Theoretical mean of Hist Data')\n",
    "        \n",
    "    if sd_lines == True:\n",
    "        ax_n.hlines([theo_mean+3*theo_std, theo_mean-3*theo_std], bins_n[0], bins_n[-1], \n",
    "                color='black', label='+/- 3 SD lines')\n",
    "    \n",
    "    ax_n.hist(rand_n, bins=no_bins, color='orange', label='Histogram Data')\n",
    "    ax_n.plot(x_vals_n, scaler_n * n_pdf(x_vals_n), color='lime', label='Ideal Normal Distribution')\n",
    "    ax_n.set_title('Histogram of Randomly Generated Gaussian Numbers with Normal Distribution')\n",
    "    ax_n.legend()\n",
    "\n",
    "    \n",
    "def plot_uniform_with_histo(N, no_bins, sd_lines = True, mean = True):\n",
    "    fig_u, ax_u = plt.subplots(1, figsize = (8, 5))\n",
    "    x_vals_u = np.linspace(-0., 1., 1000)\n",
    "    rand_u = np.random.rand(int(N)) #uniformly generate N gaussian random numbers\n",
    "    \n",
    "    scaler_u = np.mean(list(ax_u.hist(rand_u, bins=no_bins))[0]) #height of ideal uniform distribution is mean bar height\n",
    "    \n",
    "    #Create lists of bins, their data counts and their associated probabilities\n",
    "    bin_heights_u = ax_u.hist(rand_u, bins=no_bins)[0]\n",
    "    bins_u = ax_u.hist(rand_u, bins=no_bins)[1]\n",
    "    bin_probs_u = np.ones(no_bins) / no_bins\n",
    "    \n",
    "    theo_mean, theo_std = theoretical_mean_and_std(N, bin_probs_u, no_bins)\n",
    "    \n",
    "    #Plotting\n",
    "    if mean == True:\n",
    "        ax_u.hlines(theo_mean, bins_u[0], bins_u[-1], color='magenta', \n",
    "                    label='Theoretical mean of Hist Data')\n",
    "        \n",
    "    if sd_lines == True:\n",
    "        ax_u.hlines([theo_mean+3*theo_std, theo_mean-3*theo_std], bins_u[0], bins_u[-1], \n",
    "                color='black', label='+/- 3 SD lines')\n",
    "        \n",
    "    ax_u.hist(rand_u, bins=no_bins, color='orange', label='Histogram Data')\n",
    "    ax_u.plot(x_vals_u, scaler_u * np.ones(len(x_vals_u)), color='lime', label='Ideal Uniform Distribution')\n",
    "    ax_u.set_title('Histogram of Uniform Random Numbers with Uniform Distribution')\n",
    "    ax_u.legend()\n",
    "    \n",
    "interact(plot_normal_with_histo, N=FloatLogSlider(min=1, max=4, step=1), no_bins=(5, 100, 5))\n",
    "interact(plot_uniform_with_histo, N=FloatLogSlider(min=1, max=4, step=1), no_bins=(5, 100, 5))"
   ]
  },
  {
   "cell_type": "markdown",
   "id": "opening-jacket",
   "metadata": {},
   "source": [
    "## Functions of Random Variables"
   ]
  },
  {
   "cell_type": "code",
   "execution_count": 4,
   "id": "voluntary-component",
   "metadata": {},
   "outputs": [
    {
     "data": {
      "application/vnd.jupyter.widget-view+json": {
       "model_id": "7f12d2a99aa647f3bf74151255160dbb",
       "version_major": 2,
       "version_minor": 0
      },
      "text/plain": [
       "interactive(children=(FloatLogSlider(value=10.0, description='N', min=1.0, step=1.0), IntSlider(value=25, desc…"
      ]
     },
     "metadata": {},
     "output_type": "display_data"
    },
    {
     "data": {
      "application/vnd.jupyter.widget-view+json": {
       "model_id": "5b3477e2054f446bb04d6ede867279bc",
       "version_major": 2,
       "version_minor": 0
      },
      "text/plain": [
       "interactive(children=(FloatLogSlider(value=10.0, description='N', min=1.0, step=1.0), IntSlider(value=25, desc…"
      ]
     },
     "metadata": {},
     "output_type": "display_data"
    },
    {
     "data": {
      "text/plain": [
       "<function __main__.plot_func(N, title, f, no_bins, pdf, axes_lim=False, trig=False, asym=False, dist_type='gaussian')>"
      ]
     },
     "execution_count": 4,
     "metadata": {},
     "output_type": "execute_result"
    }
   ],
   "source": [
    "def y1(x, a=3, b=5, diff=False, inverse=False):\n",
    "    '''Returns function, its derivative or inverse'''\n",
    "    if diff == True:\n",
    "        return a\n",
    "    elif inverse == True:\n",
    "        return [(x - b)/a]\n",
    "    else:\n",
    "        return a*x + b\n",
    "\n",
    "    \n",
    "def y2(x, diff=False, inverse=False):\n",
    "    '''Returns function, derivative or inverse'''\n",
    "    if diff == True:\n",
    "        return 2*x\n",
    "    elif inverse == True:\n",
    "        return [np.sqrt(x), -np.sqrt(x)]\n",
    "    else:\n",
    "        return x**2\n",
    "\n",
    "\n",
    "def plot_func(N, title, f, no_bins, pdf, axes_lim=False, trig=False, asym=False,\n",
    "              dist_type='gaussian'):\n",
    "    if trig:\n",
    "        rand_x = np.random.uniform(0, 2*np.pi, int(N))\n",
    "    else:\n",
    "        rand_x = np.random.randn(int(N))\n",
    "    \n",
    "    #Generate ordered (needed for numerical integration) list of evenly spaced y values for a given x range\n",
    "    x_vals_hist = np.linspace(-5., 5., 1000)\n",
    "    y_vals_hist_unsorted = f(x_vals_hist) #for non 1-1 functions this list will not be ordered\n",
    "    start =  min(y_vals_hist_unsorted)\n",
    "    stop = max(y_vals_hist_unsorted)\n",
    "    y_vals_hist = np.linspace(start, stop, 1000)\n",
    "    \n",
    "    \n",
    "    fig, ax = plt.subplots(2, figsize = (10, 10))\n",
    "    \n",
    "    #Generate p(y) using the Jacobian Transformation\n",
    "    prob_y = np.array([(sum(pdf(x_k)/abs(f(x_k, diff=True)) for x_k in f(y, inverse=True))) \n",
    "                        for y in y_vals_hist])\n",
    "    \n",
    "    #Create lists of bin edges and bin heights\n",
    "    bins = list(ax[1].hist(f(rand_x), bins=no_bins)[1])\n",
    "    bin_heights = list(ax[1].hist(f(rand_x), bins=no_bins)[0])    \n",
    "    \n",
    "    #Calculate scaling factor to scale pdf to histogram\n",
    "    scaler = calc_scaler(bins, bin_heights, y_vals_hist, prob_y, N, asymptotes=asym)   \n",
    "    \n",
    "    #Plot f(x) as a function of random variable X to visualise distribution\n",
    "    ax[0].plot(rand_x, f(rand_x), 'x')\n",
    "    ax[0].set_title(f'f(x) = {title} for random {dist_type} variable X')\n",
    "    ax[0].set_xlabel('x')\n",
    "    ax[0].set_ylabel('f(x)')\n",
    "    ax[0].grid()\n",
    "    \n",
    "    #Limits the size of the axes to the histogram data rather the pdf plot\n",
    "    if axes_lim:\n",
    "        ax[1].set_ylim(bottom=0, top=1.2*max(list(ax[1].hist(f(rand_x), bins=no_bins)[0])))\n",
    "        ax[1].set_xlim(left= 1.1*min(list(ax[1].hist(f(rand_x), bins=no_bins)[1])), \n",
    "                       right=1.1*max(list(ax[1].hist(f(rand_x), bins=no_bins)[1])))\n",
    "    \n",
    "    #Plot histogram and overlay pdf\n",
    "    ax[1].hist(f(rand_x), bins=no_bins, color='violet', label='Histogram Data')\n",
    "    ax[1].plot(y_vals_hist, prob_y*scaler, color='black', label='PDF')\n",
    "    ax[1].set_title(f'Probability distribution of {title} for random {dist_type} variable X')\n",
    "    ax[1].set_xlabel(f'{title}')\n",
    "    ax[1].set_ylabel(f'P({title})')\n",
    "    ax[1].legend()\n",
    "    \n",
    "       \n",
    "interact(plot_func, N=FloatLogSlider(min=1, max=4, step=1), title=fixed('3x + 5'), f=fixed(y1), \n",
    "         no_bins=(5, 50, 5), pdf=fixed(n_pdf), axes_lim=fixed(False), trig=fixed(False),\n",
    "        asym=fixed(False), dist_type=fixed('gaussian'))\n",
    "\n",
    "interact(plot_func, N=FloatLogSlider(min=1, max=4, step=1), title=fixed('x^2'), f=fixed(y2), \n",
    "         no_bins=(5, 50, 5), pdf=fixed(n_pdf), axes_lim=fixed(True), trig=fixed(False),\n",
    "        asym=fixed(True), dist_type=fixed('gaussian'))"
   ]
  },
  {
   "cell_type": "code",
   "execution_count": 5,
   "id": "equal-complement",
   "metadata": {},
   "outputs": [
    {
     "data": {
      "application/vnd.jupyter.widget-view+json": {
       "model_id": "7ca396ca7bf6447a8447fb893b200b39",
       "version_major": 2,
       "version_minor": 0
      },
      "text/plain": [
       "interactive(children=(FloatLogSlider(value=10.0, description='N', min=1.0, step=1.0), IntSlider(value=25, desc…"
      ]
     },
     "metadata": {},
     "output_type": "display_data"
    },
    {
     "data": {
      "text/plain": [
       "<function __main__.plot_func(N, title, f, no_bins, pdf, axes_lim=False, trig=False, asym=False, dist_type='gaussian')>"
      ]
     },
     "execution_count": 5,
     "metadata": {},
     "output_type": "execute_result"
    }
   ],
   "source": [
    "def y4(x, diff=False, inverse=False):\n",
    "    '''Returns function, derivative or inverse'''\n",
    "    if diff == True:\n",
    "        return np.cos(x)\n",
    "    elif inverse == True:\n",
    "        if np.arcsin(x) > 0:\n",
    "            return[np.arcsin(x), np.pi - np.arcsin(x)]\n",
    "        else:\n",
    "            return[2*np.pi + np.arcsin(x), np.pi - np.arcsin(x)]\n",
    "    else:\n",
    "        return np.sin(x)\n",
    "    \n",
    "def uniform_trig_pdf(x):\n",
    "    if 0 <= x <= 2*np.pi:\n",
    "        return 1/(2*np.pi)\n",
    "    else:\n",
    "        return 0\n",
    "\n",
    "\n",
    "interact(plot_func, N=FloatLogSlider(min=1, max=4, step=1), title=fixed('sin(x)'), f=fixed(y4), \n",
    "         no_bins=(5, 50, 5), pdf=fixed(uniform_trig_pdf), axes_lim=fixed(True), trig=fixed(True),\n",
    "        asym=fixed(True), dist_type=fixed('uniform'))"
   ]
  },
  {
   "cell_type": "markdown",
   "id": "removable-australia",
   "metadata": {},
   "source": [
    "## Inverse CDF Method"
   ]
  },
  {
   "cell_type": "code",
   "execution_count": 6,
   "id": "younger-sarah",
   "metadata": {},
   "outputs": [
    {
     "data": {
      "application/vnd.jupyter.widget-view+json": {
       "model_id": "b699aab370c74a0692918e8b218a66dd",
       "version_major": 2,
       "version_minor": 0
      },
      "text/plain": [
       "interactive(children=(FloatLogSlider(value=10.0, description='N', min=1.0, step=1.0), IntSlider(value=25, desc…"
      ]
     },
     "metadata": {},
     "output_type": "display_data"
    },
    {
     "data": {
      "text/plain": [
       "<function __main__.plot_using_inverse_CDF(N, no_bins, dist, kernel_width, title, show_kd_estimate=True)>"
      ]
     },
     "execution_count": 6,
     "metadata": {},
     "output_type": "execute_result"
    }
   ],
   "source": [
    "def distribution1(y, pdf=True, cdf=False, inv_cdf=False):\n",
    "    if cdf:\n",
    "        return 1 - np.exp(-y)\n",
    "    elif inv_cdf:\n",
    "        return -np.log(1-y)\n",
    "    else:\n",
    "        return np.exp(-y)\n",
    "\n",
    "def plot_using_inverse_CDF(N, no_bins, dist, kernel_width, title, show_kd_estimate=True):\n",
    "    rand_x = np.random.rand(int(N))\n",
    "    y_vals = np.linspace(0., 10., 1000)\n",
    "    \n",
    "    fig, ax = plt.subplots(1, figsize = (10, 10))\n",
    "    \n",
    "    Y = dist(rand_x, inv_cdf=True)\n",
    "    prob_y = dist(y_vals)\n",
    "    ks_density = ksdensity(Y, width=kernel_width)\n",
    "    smoothed = ks_density(y_vals)\n",
    "    \n",
    "    bins = list(ax.hist(Y, bins=no_bins)[1])\n",
    "    bin_heights = list(ax.hist(Y, bins=no_bins)[0])\n",
    "    \n",
    "    scaler_ks = calc_scaler(bins, bin_heights, y_vals, smoothed, N)\n",
    "    scaler_pdf = calc_scaler(bins, bin_heights, y_vals, prob_y, N)\n",
    "    \n",
    "    ax.hist(Y, bins=no_bins, color='violet', label='Histogram Data')\n",
    "    if show_kd_estimate:\n",
    "        ax.plot(y_vals, smoothed*scaler_ks, color='black', label='Kernel Density Estimate')\n",
    "    ax.plot(y_vals, prob_y*scaler_pdf, color='green', label=f'p(y) = {title}')\n",
    "    ax.legend()\n",
    "\n",
    "    \n",
    "interact(plot_using_inverse_CDF, N=FloatLogSlider(min=1, max=4, step=1), dist=fixed(distribution1), \n",
    "         no_bins=(5, 50, 5), kernel_width=(0.05, 1, 0.05), title=fixed('e^-y'))"
   ]
  },
  {
   "cell_type": "markdown",
   "id": "patient-leeds",
   "metadata": {},
   "source": [
    "## Simulation from Non-Standard Densities"
   ]
  },
  {
   "cell_type": "code",
   "execution_count": 7,
   "id": "according-increase",
   "metadata": {},
   "outputs": [
    {
     "data": {
      "application/vnd.jupyter.widget-view+json": {
       "model_id": "49feb7a24468464e8bb5d7061099bba0",
       "version_major": 2,
       "version_minor": 0
      },
      "text/plain": [
       "interactive(children=(FloatSlider(value=4.1, description='a', max=10.0, min=0.1, step=1.0), FloatLogSlider(val…"
      ]
     },
     "metadata": {},
     "output_type": "display_data"
    },
    {
     "data": {
      "text/plain": [
       "<function __main__.plotX(a, N, no_bins, width)>"
      ]
     },
     "execution_count": 7,
     "metadata": {},
     "output_type": "execute_result"
    }
   ],
   "source": [
    "def U_dist(u, a, inv_cdf=False):\n",
    "    if inv_cdf:\n",
    "        return -2 * np.log(1-u) / a**2\n",
    "    else:\n",
    "        return a**2/2 * np.exp(-a**2 * u/2)\n",
    "\n",
    "def plotX(a, N, no_bins, width):\n",
    "    x = np.linspace(-5.,  5., 1000)\n",
    "    rand_unif = np.random.rand(int(N)) #generate uniformally distributed random variable\n",
    "    fig, ax = plt.subplots(3, figsize = (10, 10))\n",
    "    \n",
    "    #generate distribution for U using inverse cdf and uniform random variable\n",
    "    U = U_dist(rand_unif, a, inv_cdf=True)\n",
    "    \n",
    "    #generate random variable X from gaussian with variance U \n",
    "    X = [np.random.normal(loc=0, scale=np.sqrt(U_i)) for U_i in U]\n",
    "    \n",
    "    ks_density = ksdensity(X, width=width)\n",
    "    \n",
    "    ax[0].hist(U, bins=no_bins, color='violet')\n",
    "    ax[0].set_title('Distribution of random variable U')\n",
    "    ax[1].hist(X, bins=no_bins, color='violet')\n",
    "    ax[1].set_title('Distribution of random variable X taken from normal with variance U')\n",
    "    \n",
    "    ax[2].plot(x, np.log(ks_density(x)), color = 'orange', label = f'alpha = {a}')\n",
    "    ax[2].set_title('Natural Log of Kernel Density Estimate')\n",
    "    ax[2].grid()\n",
    "    \n",
    "    \n",
    "\n",
    "interact(plotX, a = (0.1, 10, 1), N=FloatLogSlider(min=1, max=4, step=1), no_bins=(5, 50, 5), \n",
    "         width=(0, 5, 0.5))"
   ]
  }
 ],
 "metadata": {
  "celltoolbar": "Tags",
  "kernelspec": {
   "display_name": "Python 3",
   "language": "python",
   "name": "python3"
  },
  "language_info": {
   "codemirror_mode": {
    "name": "ipython",
    "version": 3
   },
   "file_extension": ".py",
   "mimetype": "text/x-python",
   "name": "python",
   "nbconvert_exporter": "python",
   "pygments_lexer": "ipython3",
   "version": "3.8.5"
  }
 },
 "nbformat": 4,
 "nbformat_minor": 5
}
